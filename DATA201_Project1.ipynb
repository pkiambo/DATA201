{
 "cells": [
  {
   "cell_type": "markdown",
   "metadata": {},
   "source": [
    "## Employee Salaries - 2017\n",
    "Annual salary information including gross pay and overtime pay for all active, permanent employees of Montgomery County, MD paid in calendar year 2017. \n",
    "#This information will be published annually each year.\n",
    "#source: https://data.montgomerycountymd.gov/Human-Resources/Employee-Salaries-2017/2qd6-mr43"
   ]
  },
  {
   "cell_type": "code",
   "execution_count": 1,
   "metadata": {},
   "outputs": [],
   "source": [
    "## import packages:\n",
    "import random # library of function for generating random numbers and samples\n",
    "import numpy as np # for vector operations\n",
    "import pandas as pd # for Data Frame methods\n",
    "import matplotlib.pyplot as plt # Two dimensional plotting library\n",
    "import matplotlib as mpl\n",
    "import seaborn as sns #  library for making statistical graphics\n",
    "from scipy import stats #  library of statistical functions\n",
    "import scipy.interpolate as interp #  library for interpolating arrays\n",
    "#\n",
    "# Set seed for generating psuedo random numbers\n",
    "np.random.seed(12345678)\n",
    "#\n",
    "# Set up graphics\n",
    "plt.style.use('classic')\n",
    "%matplotlib inline"
   ]
  },
  {
   "cell_type": "markdown",
   "metadata": {},
   "source": [
    "## Load the CSV File."
   ]
  },
  {
   "cell_type": "code",
   "execution_count": 2,
   "metadata": {},
   "outputs": [
    {
     "data": {
      "text/plain": [
       "pandas.core.frame.DataFrame"
      ]
     },
     "execution_count": 2,
     "metadata": {},
     "output_type": "execute_result"
    }
   ],
   "source": [
    "empSalary2017 = pd.read_csv(\"Employee_Salaries_2017.csv\")\n",
    "type(empSalary2017)"
   ]
  },
  {
   "cell_type": "code",
   "execution_count": 3,
   "metadata": {},
   "outputs": [
    {
     "name": "stdout",
     "output_type": "stream",
     "text": [
      "<class 'pandas.core.frame.DataFrame'>\n",
      "RangeIndex: 9398 entries, 0 to 9397\n",
      "Data columns (total 12 columns):\n",
      "Full Name                  9398 non-null object\n",
      "Gender                     9398 non-null object\n",
      "Current Annual Salary      9398 non-null float64\n",
      "2017 Gross Pay Received    9398 non-null float64\n",
      "2017 Overtime Pay          9398 non-null float64\n",
      "Department                 9398 non-null object\n",
      "Department Name            9398 non-null object\n",
      "Division                   9398 non-null object\n",
      "Assignment Category        9398 non-null object\n",
      "Employee Position Title    9398 non-null object\n",
      "Position Under-Filled      1088 non-null object\n",
      "Date First Hired           9398 non-null object\n",
      "dtypes: float64(3), object(9)\n",
      "memory usage: 881.1+ KB\n"
     ]
    }
   ],
   "source": [
    "empSalary2017.info()"
   ]
  },
  {
   "cell_type": "code",
   "execution_count": 4,
   "metadata": {},
   "outputs": [
    {
     "data": {
      "text/html": [
       "<div>\n",
       "<style scoped>\n",
       "    .dataframe tbody tr th:only-of-type {\n",
       "        vertical-align: middle;\n",
       "    }\n",
       "\n",
       "    .dataframe tbody tr th {\n",
       "        vertical-align: top;\n",
       "    }\n",
       "\n",
       "    .dataframe thead th {\n",
       "        text-align: right;\n",
       "    }\n",
       "</style>\n",
       "<table border=\"1\" class=\"dataframe\">\n",
       "  <thead>\n",
       "    <tr style=\"text-align: right;\">\n",
       "      <th></th>\n",
       "      <th>Full Name</th>\n",
       "      <th>Gender</th>\n",
       "      <th>Current Annual Salary</th>\n",
       "      <th>2017 Gross Pay Received</th>\n",
       "      <th>2017 Overtime Pay</th>\n",
       "      <th>Department</th>\n",
       "      <th>Department Name</th>\n",
       "      <th>Division</th>\n",
       "      <th>Assignment Category</th>\n",
       "      <th>Employee Position Title</th>\n",
       "      <th>Position Under-Filled</th>\n",
       "      <th>Date First Hired</th>\n",
       "    </tr>\n",
       "  </thead>\n",
       "  <tbody>\n",
       "    <tr>\n",
       "      <th>0</th>\n",
       "      <td>Aarhus, Pam J.</td>\n",
       "      <td>F</td>\n",
       "      <td>70959.79</td>\n",
       "      <td>71316.72</td>\n",
       "      <td>0.00</td>\n",
       "      <td>POL</td>\n",
       "      <td>Department of Police</td>\n",
       "      <td>MSB Information Mgmt and Tech Division Records...</td>\n",
       "      <td>Fulltime-Regular</td>\n",
       "      <td>Office Services Coordinator</td>\n",
       "      <td>NaN</td>\n",
       "      <td>9/22/86</td>\n",
       "    </tr>\n",
       "    <tr>\n",
       "      <th>1</th>\n",
       "      <td>Aaron, Marsha M.</td>\n",
       "      <td>F</td>\n",
       "      <td>110359.00</td>\n",
       "      <td>108040.82</td>\n",
       "      <td>0.00</td>\n",
       "      <td>HHS</td>\n",
       "      <td>Department of Health and Human Services</td>\n",
       "      <td>Adult Protective and Case Management Services</td>\n",
       "      <td>Fulltime-Regular</td>\n",
       "      <td>Supervisory Social Worker</td>\n",
       "      <td>NaN</td>\n",
       "      <td>11/19/89</td>\n",
       "    </tr>\n",
       "    <tr>\n",
       "      <th>2</th>\n",
       "      <td>Ababio, Godfred A.</td>\n",
       "      <td>M</td>\n",
       "      <td>55950.24</td>\n",
       "      <td>62575.19</td>\n",
       "      <td>7649.19</td>\n",
       "      <td>COR</td>\n",
       "      <td>Correction and Rehabilitation</td>\n",
       "      <td>PRRS Facility and Security</td>\n",
       "      <td>Fulltime-Regular</td>\n",
       "      <td>Resident Supervisor II</td>\n",
       "      <td>NaN</td>\n",
       "      <td>5/5/14</td>\n",
       "    </tr>\n",
       "    <tr>\n",
       "      <th>3</th>\n",
       "      <td>Ababu, Essayas</td>\n",
       "      <td>M</td>\n",
       "      <td>95740.00</td>\n",
       "      <td>96055.94</td>\n",
       "      <td>0.00</td>\n",
       "      <td>HCA</td>\n",
       "      <td>Department of Housing and Community Affairs</td>\n",
       "      <td>Affordable Housing Programs</td>\n",
       "      <td>Fulltime-Regular</td>\n",
       "      <td>Planning Specialist III</td>\n",
       "      <td>NaN</td>\n",
       "      <td>3/5/07</td>\n",
       "    </tr>\n",
       "    <tr>\n",
       "      <th>4</th>\n",
       "      <td>Abbamonte, Drew B.</td>\n",
       "      <td>M</td>\n",
       "      <td>74732.00</td>\n",
       "      <td>98736.78</td>\n",
       "      <td>23468.73</td>\n",
       "      <td>POL</td>\n",
       "      <td>Department of Police</td>\n",
       "      <td>PSB 6th District Special Assignment Team</td>\n",
       "      <td>Fulltime-Regular</td>\n",
       "      <td>Police Officer III</td>\n",
       "      <td>NaN</td>\n",
       "      <td>7/16/07</td>\n",
       "    </tr>\n",
       "  </tbody>\n",
       "</table>\n",
       "</div>"
      ],
      "text/plain": [
       "            Full Name Gender  Current Annual Salary  2017 Gross Pay Received  \\\n",
       "0      Aarhus, Pam J.      F               70959.79                 71316.72   \n",
       "1    Aaron, Marsha M.      F              110359.00                108040.82   \n",
       "2  Ababio, Godfred A.      M               55950.24                 62575.19   \n",
       "3      Ababu, Essayas      M               95740.00                 96055.94   \n",
       "4  Abbamonte, Drew B.      M               74732.00                 98736.78   \n",
       "\n",
       "   2017 Overtime Pay Department                              Department Name  \\\n",
       "0               0.00        POL                         Department of Police   \n",
       "1               0.00        HHS      Department of Health and Human Services   \n",
       "2            7649.19        COR                Correction and Rehabilitation   \n",
       "3               0.00        HCA  Department of Housing and Community Affairs   \n",
       "4           23468.73        POL                         Department of Police   \n",
       "\n",
       "                                            Division Assignment Category  \\\n",
       "0  MSB Information Mgmt and Tech Division Records...    Fulltime-Regular   \n",
       "1      Adult Protective and Case Management Services    Fulltime-Regular   \n",
       "2                         PRRS Facility and Security    Fulltime-Regular   \n",
       "3                        Affordable Housing Programs    Fulltime-Regular   \n",
       "4           PSB 6th District Special Assignment Team    Fulltime-Regular   \n",
       "\n",
       "       Employee Position Title Position Under-Filled Date First Hired  \n",
       "0  Office Services Coordinator                   NaN          9/22/86  \n",
       "1    Supervisory Social Worker                   NaN         11/19/89  \n",
       "2       Resident Supervisor II                   NaN           5/5/14  \n",
       "3      Planning Specialist III                   NaN           3/5/07  \n",
       "4           Police Officer III                   NaN          7/16/07  "
      ]
     },
     "execution_count": 4,
     "metadata": {},
     "output_type": "execute_result"
    }
   ],
   "source": [
    "empSalary2017.head()"
   ]
  },
  {
   "cell_type": "code",
   "execution_count": 5,
   "metadata": {},
   "outputs": [
    {
     "data": {
      "text/html": [
       "<div>\n",
       "<style scoped>\n",
       "    .dataframe tbody tr th:only-of-type {\n",
       "        vertical-align: middle;\n",
       "    }\n",
       "\n",
       "    .dataframe tbody tr th {\n",
       "        vertical-align: top;\n",
       "    }\n",
       "\n",
       "    .dataframe thead th {\n",
       "        text-align: right;\n",
       "    }\n",
       "</style>\n",
       "<table border=\"1\" class=\"dataframe\">\n",
       "  <thead>\n",
       "    <tr style=\"text-align: right;\">\n",
       "      <th></th>\n",
       "      <th>Full Name</th>\n",
       "      <th>Gender</th>\n",
       "      <th>Current Annual Salary</th>\n",
       "      <th>2017 Gross Pay Received</th>\n",
       "      <th>2017 Overtime Pay</th>\n",
       "      <th>Department</th>\n",
       "      <th>Department Name</th>\n",
       "      <th>Division</th>\n",
       "      <th>Assignment Category</th>\n",
       "      <th>Employee Position Title</th>\n",
       "      <th>Position Under-Filled</th>\n",
       "      <th>Date First Hired</th>\n",
       "    </tr>\n",
       "  </thead>\n",
       "  <tbody>\n",
       "    <tr>\n",
       "      <th>9393</th>\n",
       "      <td>Zupancic, Emily C.</td>\n",
       "      <td>F</td>\n",
       "      <td>62020.00</td>\n",
       "      <td>63336.97</td>\n",
       "      <td>332.15</td>\n",
       "      <td>POL</td>\n",
       "      <td>Department of Police</td>\n",
       "      <td>PSB 4th District Patrol</td>\n",
       "      <td>Fulltime-Regular</td>\n",
       "      <td>Police Officer III</td>\n",
       "      <td>Police Officer II</td>\n",
       "      <td>8/12/13</td>\n",
       "    </tr>\n",
       "    <tr>\n",
       "      <th>9394</th>\n",
       "      <td>Zurita, Justina</td>\n",
       "      <td>F</td>\n",
       "      <td>76490.74</td>\n",
       "      <td>75656.14</td>\n",
       "      <td>0.00</td>\n",
       "      <td>HHS</td>\n",
       "      <td>Department of Health and Human Services</td>\n",
       "      <td>School Based Health Centers</td>\n",
       "      <td>Fulltime-Regular</td>\n",
       "      <td>Community Health Nurse II</td>\n",
       "      <td>NaN</td>\n",
       "      <td>11/3/15</td>\n",
       "    </tr>\n",
       "    <tr>\n",
       "      <th>9395</th>\n",
       "      <td>Zuspan, Diane M.</td>\n",
       "      <td>F</td>\n",
       "      <td>172934.28</td>\n",
       "      <td>183244.67</td>\n",
       "      <td>896.64</td>\n",
       "      <td>FRS</td>\n",
       "      <td>Fire and Rescue Services</td>\n",
       "      <td>Human Resources Division</td>\n",
       "      <td>Fulltime-Regular</td>\n",
       "      <td>Fire/Rescue Division Chief</td>\n",
       "      <td>NaN</td>\n",
       "      <td>11/28/88</td>\n",
       "    </tr>\n",
       "    <tr>\n",
       "      <th>9396</th>\n",
       "      <td>Zwerdling, David</td>\n",
       "      <td>M</td>\n",
       "      <td>107365.00</td>\n",
       "      <td>106704.52</td>\n",
       "      <td>0.00</td>\n",
       "      <td>HHS</td>\n",
       "      <td>Department of Health and Human Services</td>\n",
       "      <td>Child and Adolescent Mental Health Clinic Serv...</td>\n",
       "      <td>Parttime-Regular</td>\n",
       "      <td>Medical Doctor IV - Psychiatrist</td>\n",
       "      <td>NaN</td>\n",
       "      <td>4/30/01</td>\n",
       "    </tr>\n",
       "    <tr>\n",
       "      <th>9397</th>\n",
       "      <td>Zyontz, Jeffrey L.</td>\n",
       "      <td>M</td>\n",
       "      <td>160454.00</td>\n",
       "      <td>160117.27</td>\n",
       "      <td>0.00</td>\n",
       "      <td>CCL</td>\n",
       "      <td>County Council</td>\n",
       "      <td>Council Central Staff</td>\n",
       "      <td>Fulltime-Regular</td>\n",
       "      <td>Manager II</td>\n",
       "      <td>NaN</td>\n",
       "      <td>9/5/06</td>\n",
       "    </tr>\n",
       "  </tbody>\n",
       "</table>\n",
       "</div>"
      ],
      "text/plain": [
       "               Full Name Gender  Current Annual Salary  \\\n",
       "9393  Zupancic, Emily C.      F               62020.00   \n",
       "9394     Zurita, Justina      F               76490.74   \n",
       "9395    Zuspan, Diane M.      F              172934.28   \n",
       "9396    Zwerdling, David      M              107365.00   \n",
       "9397  Zyontz, Jeffrey L.      M              160454.00   \n",
       "\n",
       "      2017 Gross Pay Received  2017 Overtime Pay Department  \\\n",
       "9393                 63336.97             332.15        POL   \n",
       "9394                 75656.14               0.00        HHS   \n",
       "9395                183244.67             896.64        FRS   \n",
       "9396                106704.52               0.00        HHS   \n",
       "9397                160117.27               0.00        CCL   \n",
       "\n",
       "                              Department Name  \\\n",
       "9393                     Department of Police   \n",
       "9394  Department of Health and Human Services   \n",
       "9395                 Fire and Rescue Services   \n",
       "9396  Department of Health and Human Services   \n",
       "9397                           County Council   \n",
       "\n",
       "                                               Division Assignment Category  \\\n",
       "9393                            PSB 4th District Patrol    Fulltime-Regular   \n",
       "9394                        School Based Health Centers    Fulltime-Regular   \n",
       "9395                           Human Resources Division    Fulltime-Regular   \n",
       "9396  Child and Adolescent Mental Health Clinic Serv...    Parttime-Regular   \n",
       "9397                              Council Central Staff    Fulltime-Regular   \n",
       "\n",
       "               Employee Position Title Position Under-Filled Date First Hired  \n",
       "9393                Police Officer III     Police Officer II          8/12/13  \n",
       "9394         Community Health Nurse II                   NaN          11/3/15  \n",
       "9395        Fire/Rescue Division Chief                   NaN         11/28/88  \n",
       "9396  Medical Doctor IV - Psychiatrist                   NaN          4/30/01  \n",
       "9397                        Manager II                   NaN           9/5/06  "
      ]
     },
     "execution_count": 5,
     "metadata": {},
     "output_type": "execute_result"
    }
   ],
   "source": [
    "empSalary2017.tail()"
   ]
  },
  {
   "cell_type": "code",
   "execution_count": 6,
   "metadata": {},
   "outputs": [
    {
     "data": {
      "text/plain": [
       "Index(['Full Name', 'Gender', 'Current Annual Salary',\n",
       "       '2017 Gross Pay Received', '2017 Overtime Pay', 'Department',\n",
       "       'Department Name', 'Division', 'Assignment Category',\n",
       "       'Employee Position Title', 'Position Under-Filled', 'Date First Hired'],\n",
       "      dtype='object')"
      ]
     },
     "execution_count": 6,
     "metadata": {},
     "output_type": "execute_result"
    }
   ],
   "source": [
    "#check columns\n",
    "empSalary2017.columns"
   ]
  },
  {
   "cell_type": "code",
   "execution_count": 7,
   "metadata": {},
   "outputs": [
    {
     "data": {
      "text/plain": [
       "(9398, 12)"
      ]
     },
     "execution_count": 7,
     "metadata": {},
     "output_type": "execute_result"
    }
   ],
   "source": [
    "empSalary2017.shape"
   ]
  },
  {
   "cell_type": "markdown",
   "metadata": {},
   "source": [
    "## Eliminate Nan's from Dataframe and Resummarize"
   ]
  },
  {
   "cell_type": "code",
   "execution_count": 8,
   "metadata": {},
   "outputs": [
    {
     "data": {
      "text/html": [
       "<div>\n",
       "<style scoped>\n",
       "    .dataframe tbody tr th:only-of-type {\n",
       "        vertical-align: middle;\n",
       "    }\n",
       "\n",
       "    .dataframe tbody tr th {\n",
       "        vertical-align: top;\n",
       "    }\n",
       "\n",
       "    .dataframe thead th {\n",
       "        text-align: right;\n",
       "    }\n",
       "</style>\n",
       "<table border=\"1\" class=\"dataframe\">\n",
       "  <thead>\n",
       "    <tr style=\"text-align: right;\">\n",
       "      <th></th>\n",
       "      <th>count</th>\n",
       "      <th>mean</th>\n",
       "      <th>std</th>\n",
       "      <th>min</th>\n",
       "      <th>25%</th>\n",
       "      <th>50%</th>\n",
       "      <th>75%</th>\n",
       "      <th>max</th>\n",
       "    </tr>\n",
       "  </thead>\n",
       "  <tbody>\n",
       "    <tr>\n",
       "      <th>Current Annual Salary</th>\n",
       "      <td>1088.0</td>\n",
       "      <td>58484.339357</td>\n",
       "      <td>14216.111250</td>\n",
       "      <td>34233.0</td>\n",
       "      <td>49354.0000</td>\n",
       "      <td>55629.00</td>\n",
       "      <td>63656.000</td>\n",
       "      <td>135963.93</td>\n",
       "    </tr>\n",
       "    <tr>\n",
       "      <th>2017 Gross Pay Received</th>\n",
       "      <td>1088.0</td>\n",
       "      <td>56019.819044</td>\n",
       "      <td>25068.069833</td>\n",
       "      <td>0.0</td>\n",
       "      <td>47246.4175</td>\n",
       "      <td>59458.14</td>\n",
       "      <td>71630.200</td>\n",
       "      <td>143291.33</td>\n",
       "    </tr>\n",
       "    <tr>\n",
       "      <th>2017 Overtime Pay</th>\n",
       "      <td>1088.0</td>\n",
       "      <td>5030.328980</td>\n",
       "      <td>6755.837935</td>\n",
       "      <td>0.0</td>\n",
       "      <td>42.2375</td>\n",
       "      <td>2469.24</td>\n",
       "      <td>7869.125</td>\n",
       "      <td>63869.48</td>\n",
       "    </tr>\n",
       "  </tbody>\n",
       "</table>\n",
       "</div>"
      ],
      "text/plain": [
       "                          count          mean           std      min  \\\n",
       "Current Annual Salary    1088.0  58484.339357  14216.111250  34233.0   \n",
       "2017 Gross Pay Received  1088.0  56019.819044  25068.069833      0.0   \n",
       "2017 Overtime Pay        1088.0   5030.328980   6755.837935      0.0   \n",
       "\n",
       "                                25%       50%        75%        max  \n",
       "Current Annual Salary    49354.0000  55629.00  63656.000  135963.93  \n",
       "2017 Gross Pay Received  47246.4175  59458.14  71630.200  143291.33  \n",
       "2017 Overtime Pay           42.2375   2469.24   7869.125   63869.48  "
      ]
     },
     "execution_count": 8,
     "metadata": {},
     "output_type": "execute_result"
    }
   ],
   "source": [
    "empSalary2017.dropna(inplace=True) # drop all rows with Nan's\n",
    "\n",
    "empSalary2017.describe().T # basic stats"
   ]
  },
  {
   "cell_type": "code",
   "execution_count": 9,
   "metadata": {},
   "outputs": [
    {
     "name": "stdout",
     "output_type": "stream",
     "text": [
      "<class 'pandas.core.frame.DataFrame'>\n",
      "Int64Index: 1088 entries, 6 to 9393\n",
      "Data columns (total 12 columns):\n",
      "Full Name                  1088 non-null object\n",
      "Gender                     1088 non-null object\n",
      "Current Annual Salary      1088 non-null float64\n",
      "2017 Gross Pay Received    1088 non-null float64\n",
      "2017 Overtime Pay          1088 non-null float64\n",
      "Department                 1088 non-null object\n",
      "Department Name            1088 non-null object\n",
      "Division                   1088 non-null object\n",
      "Assignment Category        1088 non-null object\n",
      "Employee Position Title    1088 non-null object\n",
      "Position Under-Filled      1088 non-null object\n",
      "Date First Hired           1088 non-null object\n",
      "dtypes: float64(3), object(9)\n",
      "memory usage: 110.5+ KB\n"
     ]
    }
   ],
   "source": [
    "empSalary2017.info() # summarize DataFrame object"
   ]
  },
  {
   "cell_type": "code",
   "execution_count": 10,
   "metadata": {},
   "outputs": [
    {
     "data": {
      "text/plain": [
       "(1088, 12)"
      ]
     },
     "execution_count": 10,
     "metadata": {},
     "output_type": "execute_result"
    }
   ],
   "source": [
    "empSalary2017.shape"
   ]
  },
  {
   "cell_type": "markdown",
   "metadata": {},
   "source": [
    "# Bootstrapping Simulation"
   ]
  },
  {
   "cell_type": "code",
   "execution_count": 11,
   "metadata": {},
   "outputs": [
    {
     "data": {
      "text/plain": [
       "Index(['Full Name', 'Gender', 'Current Annual Salary',\n",
       "       '2017 Gross Pay Received', 'Overtime_Pay_2017', 'Department',\n",
       "       'Department Name', 'Division', 'Assignment Category',\n",
       "       'Employee Position Title', 'Position Under-Filled', 'Date First Hired'],\n",
       "      dtype='object')"
      ]
     },
     "execution_count": 11,
     "metadata": {},
     "output_type": "execute_result"
    }
   ],
   "source": [
    "#Rename \n",
    "empSalary2017.rename(columns={'2017 Overtime Pay':'Overtime_Pay_2017'}, inplace=True)\n",
    "empSalary2017.columns"
   ]
  },
  {
   "cell_type": "code",
   "execution_count": 12,
   "metadata": {},
   "outputs": [
    {
     "data": {
      "text/plain": [
       "(array([737., 235.,  77.,  20.,  12.,   2.,   3.,   0.,   1.,   1.]),\n",
       " array([    0.   ,  6386.948, 12773.896, 19160.844, 25547.792, 31934.74 ,\n",
       "        38321.688, 44708.636, 51095.584, 57482.532, 63869.48 ]),\n",
       " <a list of 10 Patch objects>)"
      ]
     },
     "execution_count": 12,
     "metadata": {},
     "output_type": "execute_result"
    },
    {
     "data": {
      "image/png": "[encoded data removed]",
      "text/plain": [
       "<Figure size 432x288 with 1 Axes>"
      ]
     },
     "metadata": {
      "needs_background": "light"
     },
     "output_type": "display_data"
    }
   ],
   "source": [
    "plt.hist(empSalary2017.Overtime_Pay_2017)"
   ]
  },
  {
   "cell_type": "code",
   "execution_count": 13,
   "metadata": {},
   "outputs": [
    {
     "data": {
      "text/html": [
       "<div>\n",
       "<style scoped>\n",
       "    .dataframe tbody tr th:only-of-type {\n",
       "        vertical-align: middle;\n",
       "    }\n",
       "\n",
       "    .dataframe tbody tr th {\n",
       "        vertical-align: top;\n",
       "    }\n",
       "\n",
       "    .dataframe thead th {\n",
       "        text-align: right;\n",
       "    }\n",
       "</style>\n",
       "<table border=\"1\" class=\"dataframe\">\n",
       "  <thead>\n",
       "    <tr style=\"text-align: right;\">\n",
       "      <th></th>\n",
       "      <th>Full Name</th>\n",
       "      <th>Gender</th>\n",
       "      <th>Current Annual Salary</th>\n",
       "      <th>2017 Gross Pay Received</th>\n",
       "      <th>Overtime_Pay_2017</th>\n",
       "      <th>Department</th>\n",
       "      <th>Department Name</th>\n",
       "      <th>Division</th>\n",
       "      <th>Assignment Category</th>\n",
       "      <th>Employee Position Title</th>\n",
       "      <th>Position Under-Filled</th>\n",
       "      <th>Date First Hired</th>\n",
       "    </tr>\n",
       "  </thead>\n",
       "  <tbody>\n",
       "    <tr>\n",
       "      <th>6</th>\n",
       "      <td>Abdalla, Eiman M.</td>\n",
       "      <td>F</td>\n",
       "      <td>63977.00</td>\n",
       "      <td>62177.20</td>\n",
       "      <td>184.56</td>\n",
       "      <td>FIN</td>\n",
       "      <td>Department of Finance</td>\n",
       "      <td>General Accounting</td>\n",
       "      <td>Fulltime-Regular</td>\n",
       "      <td>Accountant/Auditor III</td>\n",
       "      <td>Accountant/Auditor II</td>\n",
       "      <td>6/27/16</td>\n",
       "    </tr>\n",
       "    <tr>\n",
       "      <th>7</th>\n",
       "      <td>Abdelhamed, Shereen N.</td>\n",
       "      <td>F</td>\n",
       "      <td>53274.00</td>\n",
       "      <td>50549.01</td>\n",
       "      <td>1872.92</td>\n",
       "      <td>POL</td>\n",
       "      <td>Department of Police</td>\n",
       "      <td>PSB 2nd District Patrol</td>\n",
       "      <td>Fulltime-Regular</td>\n",
       "      <td>Police Officer III</td>\n",
       "      <td>Police Officer I</td>\n",
       "      <td>1/9/17</td>\n",
       "    </tr>\n",
       "    <tr>\n",
       "      <th>9</th>\n",
       "      <td>Abdool, Daniel Z.</td>\n",
       "      <td>M</td>\n",
       "      <td>50172.00</td>\n",
       "      <td>48567.94</td>\n",
       "      <td>1384.89</td>\n",
       "      <td>FRS</td>\n",
       "      <td>Fire and Rescue Services</td>\n",
       "      <td>Field Recruits</td>\n",
       "      <td>Fulltime-Regular</td>\n",
       "      <td>Firefighter/Rescuer III</td>\n",
       "      <td>Firefighter/Rescuer II</td>\n",
       "      <td>12/12/16</td>\n",
       "    </tr>\n",
       "    <tr>\n",
       "      <th>16</th>\n",
       "      <td>Abedin, Amirreza</td>\n",
       "      <td>M</td>\n",
       "      <td>43108.96</td>\n",
       "      <td>48911.80</td>\n",
       "      <td>6939.36</td>\n",
       "      <td>DOT</td>\n",
       "      <td>Department of Transportation</td>\n",
       "      <td>Transportation Management</td>\n",
       "      <td>Fulltime-Regular</td>\n",
       "      <td>Traffic Management Technician II</td>\n",
       "      <td>Traffic Management Technician I</td>\n",
       "      <td>12/14/15</td>\n",
       "    </tr>\n",
       "    <tr>\n",
       "      <th>17</th>\n",
       "      <td>Abell, Jennifer L.</td>\n",
       "      <td>F</td>\n",
       "      <td>49790.85</td>\n",
       "      <td>49246.54</td>\n",
       "      <td>5522.90</td>\n",
       "      <td>POL</td>\n",
       "      <td>Department of Police</td>\n",
       "      <td>MSB Communications Division</td>\n",
       "      <td>Fulltime-Regular</td>\n",
       "      <td>Public Safety Communications Specialist III</td>\n",
       "      <td>Public Safety Communications Specialist II</td>\n",
       "      <td>2/22/16</td>\n",
       "    </tr>\n",
       "  </tbody>\n",
       "</table>\n",
       "</div>"
      ],
      "text/plain": [
       "                 Full Name Gender  Current Annual Salary  \\\n",
       "6        Abdalla, Eiman M.      F               63977.00   \n",
       "7   Abdelhamed, Shereen N.      F               53274.00   \n",
       "9        Abdool, Daniel Z.      M               50172.00   \n",
       "16        Abedin, Amirreza      M               43108.96   \n",
       "17      Abell, Jennifer L.      F               49790.85   \n",
       "\n",
       "    2017 Gross Pay Received  Overtime_Pay_2017 Department  \\\n",
       "6                  62177.20             184.56        FIN   \n",
       "7                  50549.01            1872.92        POL   \n",
       "9                  48567.94            1384.89        FRS   \n",
       "16                 48911.80            6939.36        DOT   \n",
       "17                 49246.54            5522.90        POL   \n",
       "\n",
       "                 Department Name                     Division  \\\n",
       "6          Department of Finance           General Accounting   \n",
       "7           Department of Police      PSB 2nd District Patrol   \n",
       "9       Fire and Rescue Services               Field Recruits   \n",
       "16  Department of Transportation    Transportation Management   \n",
       "17          Department of Police  MSB Communications Division   \n",
       "\n",
       "   Assignment Category                      Employee Position Title  \\\n",
       "6     Fulltime-Regular                       Accountant/Auditor III   \n",
       "7     Fulltime-Regular                           Police Officer III   \n",
       "9     Fulltime-Regular                      Firefighter/Rescuer III   \n",
       "16    Fulltime-Regular             Traffic Management Technician II   \n",
       "17    Fulltime-Regular  Public Safety Communications Specialist III   \n",
       "\n",
       "                         Position Under-Filled Date First Hired  \n",
       "6                        Accountant/Auditor II          6/27/16  \n",
       "7                             Police Officer I           1/9/17  \n",
       "9                       Firefighter/Rescuer II         12/12/16  \n",
       "16             Traffic Management Technician I         12/14/15  \n",
       "17  Public Safety Communications Specialist II          2/22/16  "
      ]
     },
     "execution_count": 13,
     "metadata": {},
     "output_type": "execute_result"
    }
   ],
   "source": [
    "empSalary2017.head()"
   ]
  },
  {
   "cell_type": "code",
   "execution_count": 14,
   "metadata": {},
   "outputs": [
    {
     "data": {
      "text/plain": [
       "2469.24"
      ]
     },
     "execution_count": 14,
     "metadata": {},
     "output_type": "execute_result"
    }
   ],
   "source": [
    "empSalary2017.Overtime_Pay_2017.median()"
   ]
  },
  {
   "cell_type": "code",
   "execution_count": 15,
   "metadata": {},
   "outputs": [
    {
     "data": {
      "text/plain": [
       "2346.055"
      ]
     },
     "execution_count": 15,
     "metadata": {},
     "output_type": "execute_result"
    }
   ],
   "source": [
    "data_sample = empSalary2017.Overtime_Pay_2017[np.random.choice(empSalary2017.Overtime_Pay_2017.index, 100)]\n",
    "data_sample.median()"
   ]
  },
  {
   "cell_type": "code",
   "execution_count": 16,
   "metadata": {},
   "outputs": [
    {
     "data": {
      "text/plain": [
       "1990.725"
      ]
     },
     "execution_count": 16,
     "metadata": {},
     "output_type": "execute_result"
    }
   ],
   "source": [
    "resample_1 = data_sample.sample(100, replace=True)\n",
    "resample_1.median()"
   ]
  },
  {
   "cell_type": "code",
   "execution_count": 17,
   "metadata": {},
   "outputs": [
    {
     "data": {
      "text/plain": [
       "2346.055"
      ]
     },
     "execution_count": 17,
     "metadata": {},
     "output_type": "execute_result"
    }
   ],
   "source": [
    "resample_2 = data_sample.sample(100, replace=True)\n",
    "resample_2.median()"
   ]
  },
  {
   "cell_type": "code",
   "execution_count": 18,
   "metadata": {},
   "outputs": [
    {
     "data": {
      "text/plain": [
       "2393.33"
      ]
     },
     "execution_count": 18,
     "metadata": {},
     "output_type": "execute_result"
    }
   ],
   "source": [
    "resample_3 = data_sample.sample(100, replace=True)\n",
    "resample_3.median()"
   ]
  },
  {
   "cell_type": "code",
   "execution_count": 19,
   "metadata": {},
   "outputs": [
    {
     "name": "stdout",
     "output_type": "stream",
     "text": [
      "2346.035\n",
      "2563.2858800000154\n",
      "1568.1950000000002\n",
      "4145.235\n"
     ]
    }
   ],
   "source": [
    "#np.random.seed(111)\n",
    "resamples_medians = pd.Series(index = np.arange(1000))\n",
    "for i in range(1000):\n",
    "    resamples_medians[i] = data_sample.sample(100, replace=True).median()\n",
    "    \n",
    "print(resamples_medians.median())\n",
    "print(resamples_medians.mean())\n",
    "print(resamples_medians.quantile(0.025))\n",
    "print(resamples_medians.quantile(0.975))\n"
   ]
  },
  {
   "cell_type": "code",
   "execution_count": 20,
   "metadata": {},
   "outputs": [
    {
     "data": {
      "text/plain": [
       "Int64Index([   6,    7,    9,   16,   17,   28,   29,   36,   56,   59,\n",
       "            ...\n",
       "            9336, 9345, 9353, 9370, 9380, 9381, 9382, 9384, 9387, 9393],\n",
       "           dtype='int64', length=1088)"
      ]
     },
     "execution_count": 20,
     "metadata": {},
     "output_type": "execute_result"
    }
   ],
   "source": [
    "empSalary2017.Overtime_Pay_2017.index"
   ]
  },
  {
   "cell_type": "markdown",
   "metadata": {},
   "source": [
    "## Non-parametric Simulations Bootstrapping"
   ]
  },
  {
   "cell_type": "code",
   "execution_count": 21,
   "metadata": {},
   "outputs": [
    {
     "data": {
      "text/plain": [
       "pandas.core.series.Series"
      ]
     },
     "execution_count": 21,
     "metadata": {},
     "output_type": "execute_result"
    }
   ],
   "source": [
    "#Create a new variable that holds 2017 Overtime Pay, which will be used for the bootstrapping simulations.\n",
    "\n",
    "empSalary2017 = empSalary2017['Overtime_Pay_2017']\n",
    "type(empSalary2017)"
   ]
  },
  {
   "cell_type": "code",
   "execution_count": 22,
   "metadata": {},
   "outputs": [
    {
     "name": "stdout",
     "output_type": "stream",
     "text": [
      "<class 'list'>\n",
      "<class 'float'>\n"
     ]
    }
   ],
   "source": [
    "#Convert the mdtaxrt to a list in order to use it for the bootstrap simmulation.\n",
    "\n",
    "empSalary2017_ls = empSalary2017.tolist()\n",
    "print(type(empSalary2017_ls))\n",
    "\n",
    "#Check to see the type of the elements inside the list, it should be floats. \n",
    "print(type(empSalary2017_ls[0]))"
   ]
  },
  {
   "cell_type": "markdown",
   "metadata": {},
   "source": [
    "### Create variables to set up the simmulation.\n",
    "For this example the number of iterations will be 2500.\n",
    "The sample of each selection will be 85% of the original data."
   ]
  },
  {
   "cell_type": "code",
   "execution_count": 23,
   "metadata": {},
   "outputs": [
    {
     "name": "stdout",
     "output_type": "stream",
     "text": [
      "108\n"
     ]
    }
   ],
   "source": [
    "n_iterations = 1000\n",
    "n_size = int(len(empSalary2017) * .1)\n",
    "print(n_size)"
   ]
  },
  {
   "cell_type": "markdown",
   "metadata": {},
   "source": [
    "### Bootstrap simulation and calculate the mean and medians."
   ]
  },
  {
   "cell_type": "code",
   "execution_count": 24,
   "metadata": {},
   "outputs": [
    {
     "name": "stdout",
     "output_type": "stream",
     "text": [
      "The Length of the boot_samples is: 1000\n",
      "\n",
      "The mean of the simulated data is: 5035.680662222221\n",
      "\n",
      "The median of the simulated data is: 2475.25\n"
     ]
    }
   ],
   "source": [
    "from sklearn.utils import resample\n",
    "# run bootstrap\n",
    "boot_samples = list()\n",
    "mean_boot_samples = list()\n",
    "median_boot_samples =list()\n",
    "\n",
    "for i in range(n_iterations):\n",
    "    #Runs the simmulation\n",
    "    boot_sample = resample(empSalary2017_ls, n_samples=n_size)\n",
    "    \n",
    "    #Stores the samples into a list\n",
    "    boot_samples.append(boot_sample)\n",
    "   \n",
    "    #calculates the mean of the sample and stores this mean in a different list.\n",
    "    #means_boot_samples.append(boot_sample.mean()) # This code did not work for me. So I found a workaround using np.\n",
    "    mean_boot_samples.append(np.mean(boot_sample))\n",
    "\n",
    "    #calculates the median of the sample and stores this mean in a different list.\n",
    "    #means_boot_samples.append(boot_sample.mean()) # This code did not work for me. So I found a workaround using np.\n",
    "    median_boot_samples.append(np.median(boot_sample))    \n",
    "    \n",
    "print(\"The Length of the boot_samples is: \" + str(len(boot_samples)))\n",
    "#print(\"\\nThe first element in the boot_samples list is: \" + str(boot_samples[0]))\n",
    "print(\"\\nThe mean of the simulated data is: \" + str(np.mean(mean_boot_samples)))\n",
    "print(\"\\nThe median of the simulated data is: \" + str(np.median(median_boot_samples)))"
   ]
  },
  {
   "cell_type": "markdown",
   "metadata": {},
   "source": [
    "### Statistics comparison of the bootstrap sample with the original number of Overtime Pay"
   ]
  },
  {
   "cell_type": "code",
   "execution_count": 25,
   "metadata": {},
   "outputs": [
    {
     "name": "stdout",
     "output_type": "stream",
     "text": [
      "     Stat  Original  Simulated  Delta\n",
      "0    Mean   5030.33    5035.68  -5.35\n",
      "1  Median   2469.24    2475.25  -6.01\n"
     ]
    }
   ],
   "source": [
    "sumdata1 = [['Mean',round(np.mean(empSalary2017_ls),2),round(np.mean(mean_boot_samples),2),round(np.mean(empSalary2017_ls)-np.mean(mean_boot_samples),2)],\n",
    "            ['Median',round(np.median(empSalary2017_ls),2),round(np.median(median_boot_samples),2),round(np.median(empSalary2017_ls)-np.median(median_boot_samples),2)]\n",
    "           ]\n",
    "\n",
    "sumtable1 = pd.DataFrame(sumdata1,columns=['Stat','Original','Simulated','Delta'])\n",
    "\n",
    "print(sumtable1)"
   ]
  },
  {
   "cell_type": "code",
   "execution_count": 26,
   "metadata": {},
   "outputs": [
    {
     "data": {
      "text/plain": [
       "array([3747.74015509, 6411.21045602])"
      ]
     },
     "execution_count": 26,
     "metadata": {},
     "output_type": "execute_result"
    }
   ],
   "source": [
    "conf_int = np.percentile(mean_boot_samples, [2.5, 97.5]) # The middle 95% interval\n",
    "conf_int"
   ]
  },
  {
   "cell_type": "code",
   "execution_count": 27,
   "metadata": {},
   "outputs": [
    {
     "data": {
      "image/png": "[encoded data removed]",
      "text/plain": [
       "<Figure size 432x288 with 1 Axes>"
      ]
     },
     "metadata": {
      "needs_background": "light"
     },
     "output_type": "display_data"
    }
   ],
   "source": [
    "sns.kdeplot(mean_boot_samples)\n",
    "for endpoint in conf_int:\n",
    "    plt.axvline(endpoint, color='red')"
   ]
  },
  {
   "cell_type": "code",
   "execution_count": 28,
   "metadata": {},
   "outputs": [
    {
     "data": {
      "text/plain": [
       "5035.680662222221"
      ]
     },
     "execution_count": 28,
     "metadata": {},
     "output_type": "execute_result"
    }
   ],
   "source": [
    "from sklearn.utils import resample\n",
    "means_boot_samples = []\n",
    "for i in range(1000):\n",
    "                boot_sample = resample(resample_1) # does bootstrap; replace = True\n",
    "                means_boot_samples.append(boot_sample.mean())\n",
    "        \n",
    "np.mean(mean_boot_samples)"
   ]
  },
  {
   "cell_type": "code",
   "execution_count": null,
   "metadata": {},
   "outputs": [],
   "source": []
  }
 ],
 "metadata": {
  "kernelspec": {
   "display_name": "Python 3",
   "language": "python",
   "name": "python3"
  },
  "language_info": {
   "codemirror_mode": {
    "name": "ipython",
    "version": 3
   },
   "file_extension": ".py",
   "mimetype": "text/x-python",
   "name": "python",
   "nbconvert_exporter": "python",
   "pygments_lexer": "ipython3",
   "version": "3.7.3"
  }
 },
 "nbformat": 4,
 "nbformat_minor": 2
}
